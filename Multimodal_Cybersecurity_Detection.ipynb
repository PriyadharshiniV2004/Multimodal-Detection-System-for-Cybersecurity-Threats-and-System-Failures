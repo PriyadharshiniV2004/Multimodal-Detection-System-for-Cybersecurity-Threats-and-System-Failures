{
 "cells": [
  {
   "cell_type": "code",
   "execution_count": null,
   "id": "260db7ae",
   "metadata": {},
   "outputs": [],
   "source": [
    "import pandas as pd\n",
    "import numpy as np\n",
    "from sklearn.model_selection import train_test_split\n",
    "from tensorflow.keras.models import Model\n",
    "from tensorflow.keras.layers import Input, Conv1D, LSTM, Dense, Dropout\n",
    "from tensorflow.keras.optimizers import Adam\n",
    "from tensorflow.keras.utils import to_categorical\n"
   ]
  },
  {
   "cell_type": "markdown",
   "id": "f1b53877",
   "metadata": {},
   "source": [
    "### Load and preprocess data"
   ]
  },
  {
   "cell_type": "code",
   "execution_count": null,
   "id": "6ee5f646",
   "metadata": {},
   "outputs": [],
   "source": [
    "def create_mock_data(label, size=1000):\n",
    "    X = np.random.rand(size, 5)\n",
    "    y = np.full((size,), label)\n",
    "    return X, y\n",
    "\n",
    "X_ddos, y_ddos = create_mock_data(0)\n",
    "X_malware, y_malware = create_mock_data(1)\n",
    "X_failure, y_failure = create_mock_data(2)\n",
    "\n",
    "X_combined = np.vstack([X_ddos, X_malware, X_failure])\n",
    "y_combined = np.hstack([y_ddos, y_malware, y_failure])\n",
    "y_combined_cat = to_categorical(y_combined, num_classes=3)\n",
    "X_combined = X_combined.reshape(-1, 5, 1)\n",
    "\n",
    "X_train, X_test, y_train, y_test = train_test_split(X_combined, y_combined_cat, test_size=0.2, random_state=42)\n"
   ]
  },
  {
   "cell_type": "markdown",
   "id": "ae236006",
   "metadata": {},
   "source": [
    "### Model Architecture"
   ]
  },
  {
   "cell_type": "code",
   "execution_count": null,
   "id": "587928d4",
   "metadata": {},
   "outputs": [],
   "source": [
    "input_layer = Input(shape=(5, 1))\n",
    "x = Conv1D(64, kernel_size=3, activation='relu')(input_layer)\n",
    "x = LSTM(32)(x)\n",
    "x = Dense(16, activation='relu')(x)\n",
    "x = Dropout(0.2)(x)\n",
    "output_layer = Dense(3, activation='softmax')(x)\n",
    "\n",
    "model = Model(inputs=input_layer, outputs=output_layer)\n",
    "model.compile(optimizer=Adam(clipnorm=1.0), loss='categorical_crossentropy', metrics=['accuracy'])\n",
    "model.summary()\n"
   ]
  },
  {
   "cell_type": "markdown",
   "id": "639c79e0",
   "metadata": {},
   "source": [
    "### Model Training"
   ]
  },
  {
   "cell_type": "code",
   "execution_count": null,
   "id": "983e1770",
   "metadata": {},
   "outputs": [],
   "source": [
    "history = model.fit(X_train, y_train, validation_data=(X_test, y_test), epochs=5, batch_size=32)\n"
   ]
  },
  {
   "cell_type": "markdown",
   "id": "f94500f5",
   "metadata": {},
   "source": [
    "### Evaluation"
   ]
  },
  {
   "cell_type": "code",
   "execution_count": null,
   "id": "89211c33",
   "metadata": {},
   "outputs": [],
   "source": [
    "loss, acc = model.evaluate(X_test, y_test)\n",
    "print(f\"Test Accuracy: {acc*100:.2f}%\")\n"
   ]
  },
  {
   "cell_type": "markdown",
   "id": "80fa052b",
   "metadata": {},
   "source": [
    "### Save the Model"
   ]
  },
  {
   "cell_type": "code",
   "execution_count": null,
   "id": "9d1b9305",
   "metadata": {},
   "outputs": [],
   "source": [
    "model.save(\"IT_HACKATHON.h5\")\n"
   ]
  }
 ],
 "metadata": {},
 "nbformat": 4,
 "nbformat_minor": 5
}
